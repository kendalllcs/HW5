{
 "cells": [
  {
   "cell_type": "markdown",
   "metadata": {},
   "source": [
    "# Homework 5 RF Accuracy Improvement\n",
    "\n",
    "This assignment is inspired by examples of Shan-Hung Wu from National Tsing Hua University.\n",
    "\n",
    "Requirement: improve the accuracy per feature of the following code from 0.03 up to at least 0.45 and accuracy should be more than 0.92\n",
    "\n",
    "Here are three hints:\n",
    "\n",
    "    You can improve the ratio by picking out or \"creating\" several features.\n",
    "    Tune hyperparameters\n",
    "    The ratio can be improved from 0.03 up to 0.47."
   ]
  },
  {
   "cell_type": "code",
   "execution_count": 18,
   "metadata": {},
   "outputs": [
    {
     "name": "stdout",
     "output_type": "stream",
     "text": [
      "(569, 30)\n",
      "Accuracy: 0.95\n",
      "Accuracy per feature: 0.47\n"
     ]
    }
   ],
   "source": [
    "from sklearn.model_selection import train_test_split\n",
    "from sklearn.datasets import load_breast_cancer\n",
    "from sklearn.metrics import accuracy_score\n",
    "from sklearn.ensemble import RandomForestClassifier\n",
    "\n",
    "\n",
    "# load the breast_cancer dataset\n",
    "init_data = load_breast_cancer()\n",
    "(X, y) = load_breast_cancer(return_X_y=True)\n",
    "\n",
    "print(X.shape)\n",
    "\n",
    "# TODO Select some features (X), hint: based on the connections with\n",
    "# our Y (importance? correlation?)\n",
    "# TODO need 5 fold cross validation\n",
    "# TODO Tune parameters for RandomForestClassifier\n",
    "# TODO Calculate Average accuracy score\n",
    "# TODO Calculate Average (accuracy score/number of features)"
   ]
  },
  {
   "cell_type": "code",
   "execution_count": 1,
   "metadata": {},
   "outputs": [
    {
     "name": "stdout",
     "output_type": "stream",
     "text": [
      "Dataset shape: (569, 30)\n"
     ]
    }
   ],
   "source": [
    "import pandas as pd\n",
    "from sklearn.datasets import load_breast_cancer\n",
    "\n",
    "# Load the dataset\n",
    "data = load_breast_cancer()\n",
    "X, y = data.data, data.target\n",
    "\n",
    "# Create a DataFrame\n",
    "df = pd.DataFrame(X, columns=data.feature_names)\n",
    "df['target'] = y\n",
    "\n",
    "print(f\"Dataset shape: {X.shape}\")\n"
   ]
  },
  {
   "cell_type": "code",
   "execution_count": 2,
   "metadata": {},
   "outputs": [
    {
     "name": "stdout",
     "output_type": "stream",
     "text": [
      "Top features based on correlation with the target:\n",
      "worst concave points    0.793566\n",
      "worst perimeter         0.782914\n",
      "mean concave points     0.776614\n",
      "worst radius            0.776454\n",
      "mean perimeter          0.742636\n",
      "worst area              0.733825\n",
      "mean radius             0.730029\n",
      "mean area               0.708984\n",
      "mean concavity          0.696360\n",
      "worst concavity         0.659610\n",
      "Name: target, dtype: float64\n"
     ]
    }
   ],
   "source": [
    "# Compute correlation with the target\n",
    "corr = df.corr()\n",
    "feature_corr = corr['target'].drop('target').abs().sort_values(ascending=False)\n",
    "\n",
    "# Display the top features\n",
    "print(\"Top features based on correlation with the target:\")\n",
    "print(feature_corr.head(10))\n"
   ]
  },
  {
   "cell_type": "code",
   "execution_count": 3,
   "metadata": {},
   "outputs": [
    {
     "name": "stdout",
     "output_type": "stream",
     "text": [
      "Best hyperparameters: {'max_depth': 5, 'max_features': 'sqrt', 'min_samples_leaf': 1, 'min_samples_split': 5, 'n_estimators': 100}\n",
      "Average accuracy: 0.9385\n"
     ]
    }
   ],
   "source": [
    "from sklearn.ensemble import RandomForestClassifier\n",
    "from sklearn.model_selection import GridSearchCV, StratifiedKFold\n",
    "\n",
    "# Select top k features\n",
    "k = 2\n",
    "selected_features = feature_corr.index[:k]\n",
    "X_selected = df[selected_features].values\n",
    "\n",
    "# Define the parameter grid\n",
    "param_grid = {\n",
    "    'n_estimators': [100, 200],\n",
    "    'max_depth': [None, 5, 10],\n",
    "    'min_samples_split': [2, 5],\n",
    "    'min_samples_leaf': [1, 2],\n",
    "    'max_features': ['sqrt']\n",
    "}\n",
    "\n",
    "# Initialize the classifier\n",
    "clf = RandomForestClassifier(random_state=42)\n",
    "\n",
    "# Define the cross-validation strategy\n",
    "cv = StratifiedKFold(n_splits=5, shuffle=True, random_state=42)\n",
    "\n",
    "# Perform grid search\n",
    "grid_search = GridSearchCV(estimator=clf, param_grid=param_grid, cv=cv, scoring='accuracy', n_jobs=-1)\n",
    "grid_search.fit(X_selected, y)\n",
    "\n",
    "# Best estimator and score\n",
    "best_clf = grid_search.best_estimator_\n",
    "best_score = grid_search.best_score_\n",
    "\n",
    "print(f\"Best hyperparameters: {grid_search.best_params_}\")\n",
    "print(f\"Average accuracy: {best_score:.4f}\")\n"
   ]
  },
  {
   "cell_type": "code",
   "execution_count": 4,
   "metadata": {},
   "outputs": [
    {
     "name": "stdout",
     "output_type": "stream",
     "text": [
      "Accuracy per feature: 0.4693\n"
     ]
    }
   ],
   "source": [
    "accuracy_per_feature = best_score / k\n",
    "print(f\"Accuracy per feature: {accuracy_per_feature:.4f}\")\n"
   ]
  },
  {
   "cell_type": "code",
   "execution_count": 5,
   "metadata": {},
   "outputs": [
    {
     "name": "stdout",
     "output_type": "stream",
     "text": [
      "\n",
      "Number of features: 2\n",
      "Selected features: ['worst concave points', 'worst perimeter']\n",
      "Best hyperparameters: {'max_depth': 5, 'max_features': 'sqrt', 'min_samples_leaf': 1, 'min_samples_split': 5, 'n_estimators': 100}\n",
      "Average accuracy: 0.9385\n",
      "Accuracy per feature: 0.4693\n",
      "\n",
      "Number of features: 3\n",
      "Selected features: ['worst concave points', 'worst perimeter', 'mean concave points']\n",
      "Best hyperparameters: {'max_depth': 10, 'max_features': 'sqrt', 'min_samples_leaf': 1, 'min_samples_split': 5, 'n_estimators': 100}\n",
      "Average accuracy: 0.9385\n",
      "Accuracy per feature: 0.3128\n",
      "\n",
      "Number of features: 4\n",
      "Selected features: ['worst concave points', 'worst perimeter', 'mean concave points', 'worst radius']\n",
      "Best hyperparameters: {'max_depth': None, 'max_features': 'sqrt', 'min_samples_leaf': 2, 'min_samples_split': 2, 'n_estimators': 100}\n",
      "Average accuracy: 0.9385\n",
      "Accuracy per feature: 0.2346\n",
      "\n",
      "Number of features: 5\n",
      "Selected features: ['worst concave points', 'worst perimeter', 'mean concave points', 'worst radius', 'mean perimeter']\n",
      "Best hyperparameters: {'max_depth': None, 'max_features': 'sqrt', 'min_samples_leaf': 2, 'min_samples_split': 2, 'n_estimators': 200}\n",
      "Average accuracy: 0.9455\n",
      "Accuracy per feature: 0.1891\n"
     ]
    }
   ],
   "source": [
    "results = []\n",
    "\n",
    "for k in range(2, 6):  # Trying k from 2 to 5\n",
    "    selected_features = feature_corr.index[:k]\n",
    "    X_selected = df[selected_features].values\n",
    "    \n",
    "    # Perform grid search\n",
    "    grid_search.fit(X_selected, y)\n",
    "    best_score = grid_search.best_score_\n",
    "    accuracy_per_feature = best_score / k\n",
    "    \n",
    "    results.append({\n",
    "        'k': k,\n",
    "        'features': list(selected_features),\n",
    "        'best_params': grid_search.best_params_,\n",
    "        'accuracy': best_score,\n",
    "        'accuracy_per_feature': accuracy_per_feature\n",
    "    })\n",
    "    \n",
    "    print(f\"\\nNumber of features: {k}\")\n",
    "    print(f\"Selected features: {list(selected_features)}\")\n",
    "    print(f\"Best hyperparameters: {grid_search.best_params_}\")\n",
    "    print(f\"Average accuracy: {best_score:.4f}\")\n",
    "    print(f\"Accuracy per feature: {accuracy_per_feature:.4f}\")\n"
   ]
  }
 ],
 "metadata": {
  "kernelspec": {
   "display_name": "base",
   "language": "python",
   "name": "python3"
  },
  "language_info": {
   "codemirror_mode": {
    "name": "ipython",
    "version": 3
   },
   "file_extension": ".py",
   "mimetype": "text/x-python",
   "name": "python",
   "nbconvert_exporter": "python",
   "pygments_lexer": "ipython3",
   "version": "3.11.5"
  }
 },
 "nbformat": 4,
 "nbformat_minor": 2
}
